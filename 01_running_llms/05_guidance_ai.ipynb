{
 "cells": [
  {
   "cell_type": "code",
   "execution_count": null,
   "metadata": {},
   "outputs": [],
   "source": [
    "from guidance import models, system, user, gen, assistant\n",
    "\n",
    "# load a model (could be Transformers, LlamaCpp, VertexAI, OpenAI...)\n",
    "# llama2 = models.OpenAI(\"gpt-4o\")\n",
    "# microsoft/Phi-3-mini-4k-instruct\n",
    "llama2 = models.Transformers(\"WizardLM/WizardMath-7B-V1.1\")\n",
    "\n",
    "with system():\n",
    "    lm = llama2 + \"You only speak in ALL CAPS.\"\n",
    "\n",
    "with user():\n",
    "    lm += \"What is the captial of Greenland?\"\n",
    "\n",
    "with assistant():\n",
    "    lm += gen('answer', max_tokens=20)\n"
   ]
  },
  {
   "cell_type": "code",
   "execution_count": 3,
   "metadata": {},
   "outputs": [
    {
     "data": {
      "text/plain": [
       "'THE CAPITAL OF GREENLAND IS NUUK.'"
      ]
     },
     "execution_count": 3,
     "metadata": {},
     "output_type": "execute_result"
    }
   ],
   "source": [
    "lm[\"answer\"]"
   ]
  },
  {
   "cell_type": "code",
   "execution_count": null,
   "metadata": {},
   "outputs": [],
   "source": []
  },
  {
   "cell_type": "code",
   "execution_count": 25,
   "metadata": {},
   "outputs": [
    {
     "data": {
      "text/html": [
       "<pre style='margin: 0px; padding: 0px; vertical-align: middle; padding-left: 8px; margin-left: -8px; border-radius: 0px; border-left: 1px solid rgba(127, 127, 127, 0.2); white-space: pre-wrap; font-family: ColfaxAI, Arial; font-size: 15px; line-height: 23px;'><div style='display: flex; border-bottom: 1px solid rgba(127, 127, 127, 0.2);  justify-content: center; align-items: center;'><div style='flex: 0 0 80px; opacity: 0.5;'>system</div><div style='flex-grow: 1; padding: 5px; padding-top: 10px; padding-bottom: 10px; margin-top: 0px; white-space: pre-wrap; margin-bottom: 0px;'>\n",
       "  &lt;|begin_of_text|&gt;&lt;|start_header_id|&gt;system&lt;|end_header_id|&gt;\n",
       "  &lt;|eot_id|&gt;&lt;|start_header_id|&gt;user&lt;|end_header_id|&gt;\n",
       "\n",
       "  **Task**: Extract product information from a given text.\n",
       "\n",
       "  **Input**:\n",
       "  \n",
       "[&quot;284367: L&#x27;Oreal Paris Matte Signature Eyeliner 11ml. Black &lt;p&gt;Matt signature eyeliner will help to sharpen your eyeliner girls. Not to be difficult and time consuming anymore. The special design allows long handle grip. Formula ecstasy and Matt Black paint recipe sharp flick the stick waterproof long-lasting all day.&lt;/p&gt;&lt;p&gt;&lt;img src=https://www.watsons.co.th/medias/New-Project.jpg?context=bWFzdGVyfHd0Y3RoL2ltYWdlc3w0OTg3OTJ8aW1hZ2UvanBlZ3xoZTAvaGZhLzExNjkxNTUzMDMwMTc0L05ldyBQcm9qZWN0LmpwZ3xkMDQ4YmJhZGNjMjBlZDE4MzUxOTUwYzJmZTJhYjljZjkyZjBmOGRjMTBiNTVjY2M3OTQ4NzA0NjE4NGY2NTU4 /&gt;&lt;/p&gt;&quot;]\n",
       "\n",
       "\n",
       "  **Instructions**:\n",
       "  1. Extract the unique product key from the input text, which is typically a 6/7 digit number before the colon mark.\n",
       "  2. Identify the product type with considering the state of matter (e.g., shampoo, soap, hand wash, shower gel, laundry capsules, etc.) that is mentioned in the textual description.\n",
       "  3. If the product type cannot be identified or is unknown, return &#x27;N/A&#x27;.\n",
       "  4. Output the answer in JSON format, with the product key and product type as key-value pairs.\n",
       "\n",
       "  **Output Format**:\n",
       "  {&quot;product_key&quot;: &quot;product_type&quot;}\n",
       "\n",
       "  **Example Output**:\n",
       "  {&quot;123456&quot;: &quot;shampoo&quot;, &quot;654321&quot;: &quot;laundry capsules&quot;}\n",
       "\n",
       "  **Important**:\n",
       "  * If you don&#x27;t know the answer, please don&#x27;t share false information.\n",
       "  * All output must be in valid JSON format.\n",
       "  * Don&#x27;t add explanations beyond the JSON output.\n",
       "  * Don&#x27;t repeat the instruction or the JSON output more than once.\n",
       "\n",
       "  Answer: &lt;|eot_id|&gt;&lt;|start_header_id|&gt;assistant&lt;|end_header_id|&gt;\n",
       "</div></div><div style='display: flex; border-bottom: 1px solid rgba(127, 127, 127, 0.2);  justify-content: center; align-items: center;'><div style='flex: 0 0 80px; opacity: 0.5;'>assistant</div><div style='flex-grow: 1; padding: 5px; padding-top: 10px; padding-bottom: 10px; margin-top: 0px; white-space: pre-wrap; margin-bottom: 0px;'><span style='background-color: rgba(0.0, 165.0, 0, 0.15); border-radius: 3px;' title='1.0'>{&quot;</span><span style='background-color: rgba(0.0, 165.0, 0, 0.15); border-radius: 3px;' title='1.0'>284</span><span style='background-color: rgba(0.0, 165.0, 0, 0.15); border-radius: 3px;' title='1.0'>367</span><span style='background-color: rgba(0.0, 165.0, 0, 0.15); border-radius: 3px;' title='1.0'>&quot;:</span><span style='background-color: rgba(0.0, 165.0, 0, 0.15); border-radius: 3px;' title='1.0'> &quot;</span><span style='background-color: rgba(0.0, 165.0, 0, 0.15); border-radius: 3px;' title='1.0'>eye</span><span style='background-color: rgba(0.0, 165.0, 0, 0.15); border-radius: 3px;' title='1.0'>liner</span><span style='background-color: rgba(0.0, 165.0, 0, 0.15); border-radius: 3px;' title='1.0'>&quot;}</span></div></div></pre>"
      ],
      "text/plain": [
       "<IPython.core.display.HTML object>"
      ]
     },
     "metadata": {},
     "output_type": "display_data"
    }
   ],
   "source": [
    "llama2 = models.OpenAI(\"gpt-4o\")\n",
    "\n",
    "txt_input = \"\"\"\n",
    "[\"284367: L'Oreal Paris Matte Signature Eyeliner 11ml. Black <p>Matt signature eyeliner will help to sharpen your eyeliner girls. Not to be difficult and time consuming anymore. The special design allows long handle grip. Formula ecstasy and Matt Black paint recipe sharp flick the stick waterproof long-lasting all day.</p><p><img src=https://www.watsons.co.th/medias/New-Project.jpg?context=bWFzdGVyfHd0Y3RoL2ltYWdlc3w0OTg3OTJ8aW1hZ2UvanBlZ3xoZTAvaGZhLzExNjkxNTUzMDMwMTc0L05ldyBQcm9qZWN0LmpwZ3xkMDQ4YmJhZGNjMjBlZDE4MzUxOTUwYzJmZTJhYjljZjkyZjBmOGRjMTBiNTVjY2M3OTQ4NzA0NjE4NGY2NTU4 /></p>\", \n",
    "'283906: Catrice Calligraph Pro Precise 24h Matt Liner Waterproof 010 1.2 ml 97 percent agree: Intense black strong coverage and high precision application. This waterproof eyeliner is an all-rounder. Accurate lines? No problem thanks to the ultra-fine tip. The pen glides over the eyelid the line is perfectly in place - for up to 24 hours. The extremely intensive colour payoff is also visible over eyeshadow and make-up.', \n",
    "'284839: Browit Smooth And Slim Inner Eyeliner 0.1g. Deep Brown This pressed cream eyeliner provides smooth and precise lines with its slim tip of only 2 mm and pigment-rich color as well as being waterproof and sweat-proof. In addition this item also comes with an automatic twist-up design to facilitate the application that is specially created by Nongchat a renowned and professional makeup artist in Thailand.', \n",
    "'295492: In2it Slim Perfect Gel Liner 0.15g. 02 Brunette In2it Slim Perfect Gel Liner 0.15g. Eyeliner Pencil Bestselling Eyeliner Pencil Eyeliner pencils are good gel liners write eyeliner. Gel line sells well gel liner is good in liner in liner sells well in liner is good the soil is written the eyeliner is waterproof. Eyeliner is not messy waterproof gel liner waterproof eyeliner no gel liner no mess no panda no panda eyeliner. Brown Eyeliner Pencil Brown gel liner Beautiful lines crisp easy to write easy to carry gel liner eyeliner waterproof waterproof gel liner.', \n",
    "'275447: Canmake Creamy Touch Eye Liner 0.08g.01 Deep Black You’ll adore the tantalizingly smooth texture!1.5mm hyper-slim gel eyelinerWaterproofResistant to water sweat tears and sebumContains beautifying ingredients']\n",
    "\"\"\"\n",
    "\n",
    "txt_input = \"\"\"\n",
    "[\"284367: L'Oreal Paris Matte Signature Eyeliner 11ml. Black <p>Matt signature eyeliner will help to sharpen your eyeliner girls. Not to be difficult and time consuming anymore. The special design allows long handle grip. Formula ecstasy and Matt Black paint recipe sharp flick the stick waterproof long-lasting all day.</p><p><img src=https://www.watsons.co.th/medias/New-Project.jpg?context=bWFzdGVyfHd0Y3RoL2ltYWdlc3w0OTg3OTJ8aW1hZ2UvanBlZ3xoZTAvaGZhLzExNjkxNTUzMDMwMTc0L05ldyBQcm9qZWN0LmpwZ3xkMDQ4YmJhZGNjMjBlZDE4MzUxOTUwYzJmZTJhYjljZjkyZjBmOGRjMTBiNTVjY2M3OTQ4NzA0NjE4NGY2NTU4 /></p>\"]\n",
    "\"\"\"\n",
    "\n",
    "# Use string formatting to pass the txt_input into the {text} placeholder\n",
    "extract_prompt = f\"\"\"\n",
    "  <|begin_of_text|><|start_header_id|>system<|end_header_id|>\n",
    "  <|eot_id|><|start_header_id|>user<|end_header_id|>\n",
    "\n",
    "  **Task**: Extract product information from a given text.\n",
    "\n",
    "  **Input**:\n",
    "  {txt_input}\n",
    "\n",
    "  **Instructions**:\n",
    "  1. Extract the unique product key from the input text, which is typically a 6/7 digit number before the colon mark.\n",
    "  2. Identify the product type with considering the state of matter (e.g., shampoo, soap, hand wash, shower gel, laundry capsules, etc.) that is mentioned in the textual description.\n",
    "  3. If the product type cannot be identified or is unknown, return 'N/A'.\n",
    "  4. Output the answer in JSON format, with the product key and product type as key-value pairs.\n",
    "\n",
    "  **Output Format**:\n",
    "  {{\"product_key\": \"product_type\"}}\n",
    "\n",
    "  **Example Output**:\n",
    "  {{\"123456\": \"shampoo\", \"654321\": \"laundry capsules\"}}\n",
    "\n",
    "  **Important**:\n",
    "  * If you don't know the answer, please don't share false information.\n",
    "  * All output must be in valid JSON format.\n",
    "  * Don't add explanations beyond the JSON output.\n",
    "  * Don't repeat the instruction or the JSON output more than once.\n",
    "\n",
    "  Answer: <|eot_id|><|start_header_id|>assistant<|end_header_id|>\n",
    "\"\"\"\n",
    "\n",
    "# Create the interaction using guidance\n",
    "with system():\n",
    "    # Initialize the interaction with system and the model\n",
    "    lm = llama2 + extract_prompt\n",
    "\n",
    "with assistant():\n",
    "    # Generate the structured response\n",
    "    lm += gen('answer', max_tokens=100)"
   ]
  },
  {
   "cell_type": "code",
   "execution_count": 26,
   "metadata": {},
   "outputs": [
    {
     "name": "stdout",
     "output_type": "stream",
     "text": [
      "{'284367': 'eyeliner'}\n",
      "<class 'dict'>\n"
     ]
    }
   ],
   "source": [
    "import json\n",
    "\n",
    "# Print the final output\n",
    "result_cleaned = lm[\"answer\"]\n",
    "result_cleaned = json.loads(result_cleaned)\n",
    "print(result_cleaned)\n",
    "print(type(result_cleaned))"
   ]
  },
  {
   "cell_type": "code",
   "execution_count": 27,
   "metadata": {},
   "outputs": [
    {
     "data": {
      "text/html": [
       "<div>\n",
       "<style scoped>\n",
       "    .dataframe tbody tr th:only-of-type {\n",
       "        vertical-align: middle;\n",
       "    }\n",
       "\n",
       "    .dataframe tbody tr th {\n",
       "        vertical-align: top;\n",
       "    }\n",
       "\n",
       "    .dataframe thead th {\n",
       "        text-align: right;\n",
       "    }\n",
       "</style>\n",
       "<table border=\"1\" class=\"dataframe\">\n",
       "  <thead>\n",
       "    <tr style=\"text-align: right;\">\n",
       "      <th></th>\n",
       "      <th>product_key</th>\n",
       "      <th>product_type</th>\n",
       "    </tr>\n",
       "  </thead>\n",
       "  <tbody>\n",
       "    <tr>\n",
       "      <th>0</th>\n",
       "      <td>284367</td>\n",
       "      <td>eyeliner</td>\n",
       "    </tr>\n",
       "  </tbody>\n",
       "</table>\n",
       "</div>"
      ],
      "text/plain": [
       "  product_key product_type\n",
       "0      284367     eyeliner"
      ]
     },
     "execution_count": 27,
     "metadata": {},
     "output_type": "execute_result"
    }
   ],
   "source": [
    "import pandas as pd\n",
    "\n",
    "# Assuming result_cleaned is the response\n",
    "if \"product_key\" in result_cleaned and \"product_type\" in result_cleaned:\n",
    "    # Case where the result contains only one product_key and product_type\n",
    "    pd_data = pd.DataFrame([result_cleaned])\n",
    "else:\n",
    "    # Case where the result contains multiple product_key and product_type pairs\n",
    "    pd_data = pd.DataFrame.from_dict(result_cleaned, orient=\"index\").reset_index()\n",
    "    pd_data.columns = [\"product_key\", \"product_type\"]\n",
    "\n",
    "pd_data    "
   ]
  },
  {
   "cell_type": "code",
   "execution_count": null,
   "metadata": {},
   "outputs": [],
   "source": []
  }
 ],
 "metadata": {
  "kernelspec": {
   "display_name": "gen-ai-and-llm-integration",
   "language": "python",
   "name": "python3"
  },
  "language_info": {
   "codemirror_mode": {
    "name": "ipython",
    "version": 3
   },
   "file_extension": ".py",
   "mimetype": "text/x-python",
   "name": "python",
   "nbconvert_exporter": "python",
   "pygments_lexer": "ipython3",
   "version": "3.10.14"
  }
 },
 "nbformat": 4,
 "nbformat_minor": 2
}
