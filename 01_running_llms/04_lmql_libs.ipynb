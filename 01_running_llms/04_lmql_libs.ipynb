{
 "cells": [
  {
   "cell_type": "code",
   "execution_count": 14,
   "metadata": {},
   "outputs": [],
   "source": [
    "import lmql\n",
    "import json\n",
    "import pandas as pd\n",
    "from pprint import pprint\n",
    "import nest_asyncio\n",
    "nest_asyncio.apply()"
   ]
  },
  {
   "cell_type": "code",
   "execution_count": 2,
   "metadata": {},
   "outputs": [
    {
     "name": "stdout",
     "output_type": "stream",
     "text": [
      " 5th of June.\n"
     ]
    }
   ],
   "source": [
    "@lmql.query\n",
    "def chain_of_thought(question):\n",
    "    '''lmql\n",
    "    # Q&A prompt template\n",
    "    \"Q: {question}\\n\"\n",
    "    \"A: Let's think step by step.\\n\"\n",
    "    \"[REASONING]\"\n",
    "    \"Thus, the answer is:[ANSWER].\"\n",
    "\n",
    "    # return just the ANSWER to the caller\n",
    "    return ANSWER\n",
    "    '''\n",
    "\n",
    "print(chain_of_thought('Today is the 12th of June, what day was it 1 week ago?'))\n"
   ]
  },
  {
   "cell_type": "code",
   "execution_count": 3,
   "metadata": {},
   "outputs": [
    {
     "name": "stderr",
     "output_type": "stream",
     "text": [
      "/opt/homebrew/anaconda3/envs/gen-ai-and-llm-integration/lib/python3.10/site-packages/lmql/runtime/bopenai/batched_openai.py:752: OpenAILogitBiasLimitationWarning: the required logit_bias is too large to be handled by the OpenAI API and will be limited to the first 300 tokens. This can lead to the violation of the provided constraints or undesired model output. To avoid this use less broad or no constraints.\n",
      "  warnings.warn(\"the required logit_bias is too large to be handled by the OpenAI API and will be limited to the first 300 tokens. This can lead to the violation of the provided constraints or undesired model output. To avoid this use less broad or no constraints.\", category=OpenAILogitBiasLimitationWarning)\n",
      "/opt/homebrew/anaconda3/envs/gen-ai-and-llm-integration/lib/python3.10/site-packages/lmql/runtime/bopenai/batched_openai.py:507: OpenAIAPIWarning: OpenAI API: Underlying stream of OpenAI complete() call failed with error\n",
      "\n",
      " (<class 'TimeoutError'>)\n",
      "\n",
      "Retrying... (attempt: 0)\n",
      "  warnings.warn(f\"OpenAI API: Underlying stream of OpenAI complete() call failed with error\\n\\n{attempt.error} ({type(attempt.error)})\\n\\nRetrying... (attempt: {self.retries})\",\n",
      "OpenAIAPIWarning: Enable tracemalloc to get the object allocation traceback\n",
      "/opt/homebrew/anaconda3/envs/gen-ai-and-llm-integration/lib/python3.10/site-packages/lmql/runtime/bopenai/batched_openai.py:739: OpenAIAPIWarning: OpenAI request with ID 8 failed (timeout or other error) and will be retried\n",
      "  warnings.warn(\"OpenAI request with ID {} failed (timeout or other error) and will be retried\".format(request_id), category=OpenAIAPIWarning)\n"
     ]
    },
    {
     "name": "stdout",
     "output_type": "stream",
     "text": [
      "LMQLResult(prompt='Review: We had a great stay. Hiking in the mountains \\n'\n",
      "                  '                    was fabulous and the food is really '\n",
      "                  'good.\\n'\n",
      "                  'Q: What is the underlying sentiment of this review and '\n",
      "                  'why?\\n'\n",
      "                  'A: The underlying sentiment of this review is positive '\n",
      "                  'because the reviewer had a great stay, enjoyed hiking in '\n",
      "                  'the mountains, and found the food to be really good.Based '\n",
      "                  'on this, the overall sentiment of the message can be '\n",
      "                  'considered to be positiveWhat is it that they liked about '\n",
      "                  'their stay? \\n'\n",
      "                  'The reviewer liked the hiking in the mountains and the '\n",
      "                  'food.',\n",
      "           variables={'ANALYSIS': ' The underlying sentiment of this review is '\n",
      "                                  'positive because the reviewer had a great '\n",
      "                                  'stay, enjoyed hiking in the mountains, and '\n",
      "                                  'found the food to be really good.',\n",
      "                      'CLS': ' positive',\n",
      "                      'FURTHER_ANALYSIS': '\\n'\n",
      "                                          'The reviewer liked the hiking in '\n",
      "                                          'the mountains and the food.'},\n",
      "           distribution_variable=None,\n",
      "           distribution_values=None)\n"
     ]
    }
   ],
   "source": [
    "@lmql.query\n",
    "def chain_of_thought(review):\n",
    "    '''lmql\n",
    "    argmax\n",
    "        \n",
    "        \"\"\"Review: {review}\n",
    "        Q: What is the underlying sentiment of this review and why?\n",
    "        A:[ANALYSIS]\"\"\" where not \"\\n\" in ANALYSIS\n",
    "        \n",
    "        \"Based on this, the overall sentiment of the message can be considered to be[CLS]\" where CLS in [\" positive\", \" neutral\", \" negative\"]\n",
    "        \n",
    "        if CLS == \" positive\":\n",
    "            \"What is it that they liked about their stay? [FURTHER_ANALYSIS]\"\n",
    "        elif CLS == \" neutral\":\n",
    "            \"What is it that could have been improved? [FURTHER_ANALYSIS]\"\n",
    "        elif CLS == \" negative\":\n",
    "            \"What is it that they did not like about their stay? [FURTHER_ANALYSIS]\"\n",
    "    where\n",
    "    STOPS_AT(FURTHER_ANALYSIS, \".\")\n",
    "    '''\n",
    "\n",
    "review = \"\"\"We had a great stay. Hiking in the mountains \n",
    "                    was fabulous and the food is really good.\"\"\"\n",
    "\n",
    "pprint(chain_of_thought(review))\n"
   ]
  },
  {
   "cell_type": "code",
   "execution_count": null,
   "metadata": {},
   "outputs": [],
   "source": []
  },
  {
   "cell_type": "code",
   "execution_count": 8,
   "metadata": {},
   "outputs": [],
   "source": [
    "@lmql.query\n",
    "def extract_product_information(text):\n",
    "    '''lmql\n",
    "    # Task prompt template\n",
    "    \"<|begin_of_text|><|start_header_id|>system<|end_header_id|>\\n\"\n",
    "    \"<|eot_id|><|start_header_id|>user<|end_header_id|>\\n\"\n",
    "    \"**Task**: Extract product information from a given text.\\n\\n\"\n",
    "    \"**Input**:\\n\"\n",
    "    \"{text}\\n\\n\"\n",
    "    \"**Instructions**:\\n\"\n",
    "    \"1. Extract the unique product key from the input text, which is typically a 6/7 digit number before the colon mark.\\n\"\n",
    "    \"2. Identify the product type with considering the state of matter (e.g., shampoo, soap, hand wash, shower gel, laundry capsules, etc.) that is mentioned in the textual description.\\n\"\n",
    "    \"3. If the product type cannot be identified or is unknown, return 'N/A'.\\n\"\n",
    "    \"4. Output the answer in JSON format, with the product key and product type as key-value pairs.\\n\"\n",
    "    \"**Output Format**:\\n\"\n",
    "    \"{{\\\"product_key\\\": \\\"product_type\\\"}}\\n\\n\"\n",
    "    \"Answer: <|eot_id|><|start_header_id|>assistant<|end_header_id|>\\n\"\n",
    "    \n",
    "    \"[ANSWER]\"\n",
    "    \n",
    "    # return only the extracted JSON\n",
    "    return ANSWER\n",
    "    '''"
   ]
  },
  {
   "cell_type": "code",
   "execution_count": 33,
   "metadata": {},
   "outputs": [
    {
     "data": {
      "text/plain": [
       "{'product_key': '284367', 'product_type': 'eyeliner'}"
      ]
     },
     "execution_count": 33,
     "metadata": {},
     "output_type": "execute_result"
    }
   ],
   "source": [
    "txt_input = \"\"\"\n",
    "[\"284367: L'Oreal Paris Matte Signature Eyeliner 11ml. Black <p>Matt signature eyeliner will help to sharpen your eyeliner girls. Not to be difficult and time consuming anymore. The special design allows long handle grip. Formula ecstasy and Matt Black paint recipe sharp flick the stick waterproof long-lasting all day.</p><p><img src=https://www.watsons.co.th/medias/New-Project.jpg?context=bWFzdGVyfHd0Y3RoL2ltYWdlc3w0OTg3OTJ8aW1hZ2UvanBlZ3xoZTAvaGZhLzExNjkxNTUzMDMwMTc0L05ldyBQcm9qZWN0LmpwZ3xkMDQ4YmJhZGNjMjBlZDE4MzUxOTUwYzJmZTJhYjljZjkyZjBmOGRjMTBiNTVjY2M3OTQ4NzA0NjE4NGY2NTU4 /></p>\", '283906: Catrice Calligraph Pro Precise 24h Matt Liner Waterproof 010 1.2 ml 97 percent agree: Intense black strong coverage and high precision application. This waterproof eyeliner is an all-rounder. Accurate lines? No problem thanks to the ultra-fine tip. The pen glides over the eyelid the line is perfectly in place - for up to 24 hours. The extremely intensive colour payoff is also visible over eyeshadow and make-up.', '284839: Browit Smooth And Slim Inner Eyeliner 0.1g. Deep Brown This pressed cream eyeliner provides smooth and precise lines with its slim tip of only 2 mm and pigment-rich color as well as being waterproof and sweat-proof. In addition this item also comes with an automatic twist-up design to facilitate the application that is specially created by Nongchat a renowned and professional makeup artist in Thailand.', '295492: In2it Slim Perfect Gel Liner 0.15g. 02 Brunette In2it Slim Perfect Gel Liner 0.15g. Eyeliner Pencil Bestselling Eyeliner Pencil Eyeliner pencils are good gel liners write eyeliner. Gel line sells well gel liner is good in liner in liner sells well in liner is good the soil is written the eyeliner is waterproof. Eyeliner is not messy waterproof gel liner waterproof eyeliner no gel liner no mess no panda no panda eyeliner. Brown Eyeliner Pencil Brown gel liner Beautiful lines crisp easy to write easy to carry gel liner eyeliner waterproof waterproof gel liner.', '275447: Canmake Creamy Touch Eye Liner 0.08g.01 Deep Black You’ll adore the tantalizingly smooth texture!1.5mm hyper-slim gel eyelinerWaterproofResistant to water sweat tears and sebumContains beautifying ingredients']\n",
    "\"\"\"\n",
    "\n",
    "txt_input = \"\"\"\n",
    "[\"284367: L'Oreal Paris Matte Signature Eyeliner 11ml. Black <p>Matt signature eyeliner will help to sharpen your eyeliner girls. Not to be difficult and time consuming anymore. The special design allows long handle grip. Formula ecstasy and Matt Black paint recipe sharp flick the stick waterproof long-lasting all day.</p><p><img src=https://www.watsons.co.th/medias/New-Project.jpg?context=bWFzdGVyfHd0Y3RoL2ltYWdlc3w0OTg3OTJ8aW1hZ2UvanBlZ3xoZTAvaGZhLzExNjkxNTUzMDMwMTc0L05ldyBQcm9qZWN0LmpwZ3xkMDQ4YmJhZGNjMjBlZDE4MzUxOTUwYzJmZTJhYjljZjkyZjBmOGRjMTBiNTVjY2M3OTQ4NzA0NjE4NGY2NTU4 /></p>\"]\n",
    "\"\"\"\n",
    "\n",
    "result_cleaned = extract_product_information(txt_input)\n",
    "result_cleaned = json.loads(result_cleaned)\n",
    "result_cleaned"
   ]
  },
  {
   "cell_type": "code",
   "execution_count": 34,
   "metadata": {},
   "outputs": [
    {
     "data": {
      "text/html": [
       "<div>\n",
       "<style scoped>\n",
       "    .dataframe tbody tr th:only-of-type {\n",
       "        vertical-align: middle;\n",
       "    }\n",
       "\n",
       "    .dataframe tbody tr th {\n",
       "        vertical-align: top;\n",
       "    }\n",
       "\n",
       "    .dataframe thead th {\n",
       "        text-align: right;\n",
       "    }\n",
       "</style>\n",
       "<table border=\"1\" class=\"dataframe\">\n",
       "  <thead>\n",
       "    <tr style=\"text-align: right;\">\n",
       "      <th></th>\n",
       "      <th>product_key</th>\n",
       "      <th>product_type</th>\n",
       "    </tr>\n",
       "  </thead>\n",
       "  <tbody>\n",
       "    <tr>\n",
       "      <th>0</th>\n",
       "      <td>284367</td>\n",
       "      <td>eyeliner</td>\n",
       "    </tr>\n",
       "  </tbody>\n",
       "</table>\n",
       "</div>"
      ],
      "text/plain": [
       "  product_key product_type\n",
       "0      284367     eyeliner"
      ]
     },
     "execution_count": 34,
     "metadata": {},
     "output_type": "execute_result"
    }
   ],
   "source": [
    "# Assuming result_cleaned is the response\n",
    "if \"product_key\" in result_cleaned and \"product_type\" in result_cleaned:\n",
    "    # Case where the result contains only one product_key and product_type\n",
    "    pd_data = pd.DataFrame([result_cleaned])\n",
    "else:\n",
    "    # Case where the result contains multiple product_key and product_type pairs\n",
    "    pd_data = pd.DataFrame.from_dict(result_cleaned, orient=\"index\").reset_index()\n",
    "    pd_data.columns = [\"product_key\", \"product_type\"]\n",
    "\n",
    "pd_data    "
   ]
  },
  {
   "cell_type": "code",
   "execution_count": null,
   "metadata": {},
   "outputs": [],
   "source": []
  }
 ],
 "metadata": {
  "kernelspec": {
   "display_name": "gen-ai-and-llm-integration",
   "language": "python",
   "name": "python3"
  },
  "language_info": {
   "codemirror_mode": {
    "name": "ipython",
    "version": 3
   },
   "file_extension": ".py",
   "mimetype": "text/x-python",
   "name": "python",
   "nbconvert_exporter": "python",
   "pygments_lexer": "ipython3",
   "version": "3.10.14"
  }
 },
 "nbformat": 4,
 "nbformat_minor": 2
}
